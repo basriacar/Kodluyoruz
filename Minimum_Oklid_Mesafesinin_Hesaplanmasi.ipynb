{
 "cells": [
  {
   "cell_type": "code",
   "execution_count": 1,
   "id": "eff0fa7e",
   "metadata": {},
   "outputs": [
    {
     "name": "stdout",
     "output_type": "stream",
     "text": [
      "Minimum Öklid mesafesi: 3.1622776601683795\n"
     ]
    }
   ],
   "source": [
    "import math\n",
    "\n",
    "def euclideanDistance(p1, p2):\n",
    "    return math.sqrt((p2[0] - p1[0])**2 + (p2[1] - p1[1])**2)\n",
    "\n",
    "# 2D uzayda rastgele noktalar\n",
    "points = [(1, 2), (4, 6), (7, 8), (2, 9), (5, 3)]\n",
    "\n",
    "distances = []\n",
    "\n",
    "# Tüm nokta çiftleri arasındaki mesafeleri hesapla\n",
    "for i in range(len(points)):\n",
    "    for j in range(i + 1, len(points)):\n",
    "        dist = euclideanDistance(points[i], points[j])\n",
    "        distances.append(dist)\n",
    "\n",
    "# Minimum mesafeyi bul ve yazdır\n",
    "min_distance = min(distances)\n",
    "print(\"Minimum Öklid mesafesi:\", min_distance)\n"
   ]
  },
  {
   "cell_type": "code",
   "execution_count": null,
   "id": "cc203e7e",
   "metadata": {},
   "outputs": [],
   "source": []
  }
 ],
 "metadata": {
  "kernelspec": {
   "display_name": "Python 3 (ipykernel)",
   "language": "python",
   "name": "python3"
  },
  "language_info": {
   "codemirror_mode": {
    "name": "ipython",
    "version": 3
   },
   "file_extension": ".py",
   "mimetype": "text/x-python",
   "name": "python",
   "nbconvert_exporter": "python",
   "pygments_lexer": "ipython3",
   "version": "3.11.5"
  }
 },
 "nbformat": 4,
 "nbformat_minor": 5
}
